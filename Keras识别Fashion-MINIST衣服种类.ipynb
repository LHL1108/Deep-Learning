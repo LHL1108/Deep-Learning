{
 "cells": [
  {
   "cell_type": "code",
   "execution_count": 39,
   "metadata": {},
   "outputs": [],
   "source": [
    "# 导入Keras\n",
    "import tensorflow as tf\n",
    "from tensorflow import keras"
   ]
  },
  {
   "cell_type": "code",
   "execution_count": 40,
   "metadata": {},
   "outputs": [
    {
     "data": {
      "text/plain": [
       "'2.1.6-tf'"
      ]
     },
     "execution_count": 40,
     "metadata": {},
     "output_type": "execute_result"
    }
   ],
   "source": [
    "keras.__version__"
   ]
  },
  {
   "cell_type": "code",
   "execution_count": 26,
   "metadata": {},
   "outputs": [
    {
     "name": "stderr",
     "output_type": "stream",
     "text": [
      "Using TensorFlow backend.\n"
     ]
    }
   ],
   "source": [
    "#导入包和数据\n",
    "import numpy as np\n",
    "import pandas as pd\n",
    "import matplotlib.pyplot as plt\n",
    "%matplotlib inline\n",
    "\n",
    "from subprocess import check_output\n",
    "print(check_output[\"ls\", \"../input\"].decode(\"utf8\"))\n",
    "\n",
    "data_train_file = \"../input/fashion-minist_train.csv\"\n",
    "data_test_file = \"../input/fashion-minist_test.csv\"\n",
    "\n",
    "df_train = pd.read_csv(data_train_file)\n",
    "df_test = pd.read_csv(data_test_file)\n",
    "\n",
    "df_train.head()"
   ]
  },
  {
   "cell_type": "markdown",
   "metadata": {},
   "source": [
    "## 预处理数据"
   ]
  },
  {
   "cell_type": "code",
   "execution_count": null,
   "metadata": {},
   "outputs": [],
   "source": [
    "# 数据的标签在第一列，除以255将所有灰度值正则化到0-1\n",
    "def get_features_labels(df):\n",
    "    features = df.values[:, 1:]/255\n",
    "    lables = df['label'].values\n",
    "    return features, lables\n",
    "\n",
    "train_features, train_labels = get_features_labels(df_train)\n",
    "test_features, test_lables = get_features_labels(df_test)\n",
    "\n",
    "print(train_features.shape)\n",
    "#(60000, 784)\n",
    "print(train_labels.shape)\n",
    "#(60000, 1)\n",
    "\n",
    "#选取其中一个图片的值\n",
    "train_features[20, 300:320]\n",
    "#将其展示\n",
    "example_index = 221\n",
    "plt.figure()\n",
    "_ = plt.imshow(np.reshape(train_features[example_index, :], (28,28)), 'grey')\n",
    "\n",
    "#将标签转换为独热编码\n",
    "train_labels.shape\n",
    "train_labels[example_index]\n",
    "train_lables = tf.keras.utils.to_categorical(train_labels)\n",
    "test_lables = tf.keras.utils.to_categorical(test_lables)\n",
    "train_labels.shape\n",
    "train_lables[example_index]\n",
    "\n",
    "#创建序列模型\n",
    "model = tf.keras.Sequential()\n",
    "#第一层30个节点\n",
    "model.add(tf.keras.layers.Dense(30, activation=tf.nn.relu, input_shape=(784,)))\n",
    "model.add(tf.keras.layers.Dense(20, activation=tf.nn.relu))\n",
    "model.add(tf.keras.layers.Dense(10, activation=tf.nn.softmax))\n",
    "\n",
    "#现在编写并打印模型的摘要(以交叉熵作为损失函数，以rmsprop为优化器，准确率为评价指标)\n",
    "model.compile(loss='categorical_crossentropy',\n",
    "             optimizer='rmsprop',\n",
    "             metrics=['accuracy'])\n",
    "model.summary\n",
    "\n",
    "#使用Keras进行训练(模型遍历数据集两次，每一步训练模型会看到128个样本)\n",
    "EPOCHS = 2\n",
    "BATCH_SIZE = 128\n",
    "\n",
    "#训练模型\n",
    "model.fit(train_features, train_labels, epochs=EPOCHS, batch_size=BATCH_SIZE)\n",
    "\n",
    "#打印损失\n",
    "test_loss, test_acc = model.evaluate(test_features, test_labels)\n",
    "\n",
    "print('test_acc:',test_acc)"
   ]
  }
 ],
 "metadata": {
  "kernelspec": {
   "display_name": "Python 3",
   "language": "python",
   "name": "python3"
  },
  "language_info": {
   "codemirror_mode": {
    "name": "ipython",
    "version": 3
   },
   "file_extension": ".py",
   "mimetype": "text/x-python",
   "name": "python",
   "nbconvert_exporter": "python",
   "pygments_lexer": "ipython3",
   "version": "3.6.5"
  }
 },
 "nbformat": 4,
 "nbformat_minor": 2
}
